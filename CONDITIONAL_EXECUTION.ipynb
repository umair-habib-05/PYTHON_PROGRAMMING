{
 "cells": [
  {
   "cell_type": "markdown",
   "id": "8ad89a09",
   "metadata": {},
   "source": [
    "# if, elif, else Statements"
   ]
  },
  {
   "cell_type": "code",
   "execution_count": 1,
   "id": "580f2602",
   "metadata": {},
   "outputs": [
    {
     "name": "stdout",
     "output_type": "stream",
     "text": [
      "yes\n"
     ]
    }
   ],
   "source": [
    "# if\n",
    "if 1 < 2:\n",
    "    print('yes')"
   ]
  },
  {
   "cell_type": "code",
   "execution_count": 2,
   "id": "8b6850a2",
   "metadata": {},
   "outputs": [
    {
     "name": "stdout",
     "output_type": "stream",
     "text": [
      "you are right\n"
     ]
    }
   ],
   "source": [
    "# if - else\n",
    "if 1 < 2:\n",
    "    print('you are right')\n",
    "else:\n",
    "    print(\"it's wrong bro\")"
   ]
  },
  {
   "cell_type": "code",
   "execution_count": 3,
   "id": "c32d39c4",
   "metadata": {},
   "outputs": [
    {
     "name": "stdout",
     "output_type": "stream",
     "text": [
      "last\n"
     ]
    }
   ],
   "source": [
    "# if - elif - else\n",
    "if 1 == 2:\n",
    "    print(\"1st\")\n",
    "elif 2==3:\n",
    "    print(\"2nd\")\n",
    "else:\n",
    "    print(\"last\")"
   ]
  },
  {
   "cell_type": "markdown",
   "id": "0a5cf8e7",
   "metadata": {},
   "source": [
    "# Logical Conditions"
   ]
  },
  {
   "cell_type": "raw",
   "id": "15e8b195",
   "metadata": {},
   "source": [
    "(1) Equals: a == b\n",
    "(2) Not Equal: a != b\n",
    "(3) Less than: a<b\n",
    "(4) Less than or equal to: a <= b\n",
    "(5) Greater than: a > b\n",
    "(6) Greater than or equal to: a >= b"
   ]
  },
  {
   "cell_type": "markdown",
   "id": "8668af7f",
   "metadata": {},
   "source": [
    "# Logical AND, OR"
   ]
  },
  {
   "cell_type": "raw",
   "id": "c25362a0",
   "metadata": {},
   "source": [
    "(1) and\n",
    "(2) or"
   ]
  },
  {
   "cell_type": "code",
   "execution_count": 4,
   "id": "54908733",
   "metadata": {},
   "outputs": [
    {
     "name": "stdout",
     "output_type": "stream",
     "text": [
      "yes\n"
     ]
    }
   ],
   "source": [
    "a = 10\n",
    "b = 20\n",
    "c = 30\n",
    "\n",
    "if a < b and c > b:\n",
    "    print(\"yes\")\n",
    "else:\n",
    "    print(\"nO\")"
   ]
  },
  {
   "cell_type": "code",
   "execution_count": 5,
   "id": "5d060c82",
   "metadata": {},
   "outputs": [
    {
     "name": "stdout",
     "output_type": "stream",
     "text": [
      "yes\n"
     ]
    }
   ],
   "source": [
    "if a < b or c > b:\n",
    "    print(\"yes\")\n",
    "else:\n",
    "    print(\"nO\")"
   ]
  },
  {
   "cell_type": "code",
   "execution_count": 6,
   "id": "5b2eeb65",
   "metadata": {},
   "outputs": [
    {
     "name": "stdout",
     "output_type": "stream",
     "text": [
      "the customer wants xtra drink(diet coke and/or shake) and xtra food(french fries and/or burger)\n"
     ]
    }
   ],
   "source": [
    "# check the extras the customer order\n",
    "\n",
    "diet_coke = False\n",
    "shake = True\n",
    "fries = True\n",
    "burger = True\n",
    "\n",
    "# evaluate the customer's order\n",
    "if (diet_coke or shake) and (fries or burger):\n",
    "    print(\"the customer wants xtra drink\" +\n",
    "          \"(diet coke and/or shake) and xtra food\" +\n",
    "          \"(french fries and/or burger)\")\n",
    "else:\n",
    "    print(\"the customer doesn't want both\" +\n",
    "          \" xtra drink and xtra food\")"
   ]
  },
  {
   "cell_type": "markdown",
   "id": "ea7cc324",
   "metadata": {},
   "source": [
    "# Nested if"
   ]
  },
  {
   "cell_type": "code",
   "execution_count": 7,
   "id": "2ddaebda",
   "metadata": {},
   "outputs": [
    {
     "name": "stdout",
     "output_type": "stream",
     "text": [
      "first element of a list is also in b list\n",
      "first element of a list is also in c list\n"
     ]
    }
   ],
   "source": [
    "a = [1, 2, 3, 4, 5, 6, 7]\n",
    "b = [1, 2, 3]\n",
    "c = [1]\n",
    "\n",
    "if a[0] in b:\n",
    "    print(\"first element of a list is also in b list\")\n",
    "    if a[0] in c:\n",
    "        print(\"first element of a list is also in c list\")"
   ]
  },
  {
   "cell_type": "markdown",
   "id": "b0b7e7f8",
   "metadata": {},
   "source": [
    "# Iterations/Loops"
   ]
  },
  {
   "cell_type": "markdown",
   "id": "c0363d88",
   "metadata": {},
   "source": [
    "while loop"
   ]
  },
  {
   "cell_type": "code",
   "execution_count": 13,
   "id": "db993b8e",
   "metadata": {},
   "outputs": [
    {
     "name": "stdout",
     "output_type": "stream",
     "text": [
      "i is:  0\n",
      "i is:  1\n",
      "i is:  2\n",
      "i is:  3\n",
      "i is:  4\n"
     ]
    }
   ],
   "source": [
    "i = 0\n",
    "while i < 5:\n",
    "    print(\"i is: \", i)\n",
    "    i = i+1"
   ]
  },
  {
   "cell_type": "markdown",
   "id": "c7d807a7",
   "metadata": {},
   "source": [
    "for loop"
   ]
  },
  {
   "cell_type": "code",
   "execution_count": 15,
   "id": "484cb9ea",
   "metadata": {},
   "outputs": [
    {
     "name": "stdout",
     "output_type": "stream",
     "text": [
      "1\n",
      "2\n",
      "3\n",
      "4\n",
      "5\n"
     ]
    }
   ],
   "source": [
    "seq = [1,2,3,4,5]\n",
    "for item in seq:\n",
    "    print(item)"
   ]
  },
  {
   "cell_type": "code",
   "execution_count": 16,
   "id": "480f3755",
   "metadata": {},
   "outputs": [
    {
     "name": "stdout",
     "output_type": "stream",
     "text": [
      "2\n",
      "4\n",
      "6\n",
      "8\n",
      "10\n"
     ]
    }
   ],
   "source": [
    "for jelly in seq:\n",
    "    print(jelly+jelly)"
   ]
  },
  {
   "cell_type": "markdown",
   "id": "a557eb71",
   "metadata": {},
   "source": [
    "range()"
   ]
  },
  {
   "cell_type": "code",
   "execution_count": 17,
   "id": "050608d0",
   "metadata": {},
   "outputs": [
    {
     "data": {
      "text/plain": [
       "range"
      ]
     },
     "execution_count": 17,
     "metadata": {},
     "output_type": "execute_result"
    }
   ],
   "source": [
    "type(range(5))"
   ]
  },
  {
   "cell_type": "code",
   "execution_count": 18,
   "id": "68519a1c",
   "metadata": {},
   "outputs": [
    {
     "name": "stdout",
     "output_type": "stream",
     "text": [
      "0\n",
      "1\n",
      "2\n",
      "3\n",
      "4\n"
     ]
    }
   ],
   "source": [
    "for i in range(5):\n",
    "    print(i)"
   ]
  },
  {
   "cell_type": "code",
   "execution_count": 22,
   "id": "a1007956",
   "metadata": {},
   "outputs": [
    {
     "data": {
      "text/plain": [
       "{1, 2, 3, 4}"
      ]
     },
     "execution_count": 22,
     "metadata": {},
     "output_type": "execute_result"
    }
   ],
   "source": [
    "set(range(1,5))"
   ]
  },
  {
   "cell_type": "code",
   "execution_count": 23,
   "id": "51e0e71d",
   "metadata": {},
   "outputs": [
    {
     "data": {
      "text/plain": [
       "[1, 2, 3, 4]"
      ]
     },
     "execution_count": 23,
     "metadata": {},
     "output_type": "execute_result"
    }
   ],
   "source": [
    "list(range(1,5))"
   ]
  },
  {
   "cell_type": "markdown",
   "id": "1e60e045",
   "metadata": {},
   "source": [
    "break and continue"
   ]
  },
  {
   "cell_type": "code",
   "execution_count": 24,
   "id": "6e41dafb",
   "metadata": {},
   "outputs": [
    {
     "name": "stdout",
     "output_type": "stream",
     "text": [
      "1\n",
      "2\n"
     ]
    }
   ],
   "source": [
    "# break\n",
    "for x in seq:\n",
    "    if x == 3:\n",
    "        break\n",
    "    print(x)"
   ]
  },
  {
   "cell_type": "code",
   "execution_count": 25,
   "id": "55f39f40",
   "metadata": {},
   "outputs": [
    {
     "name": "stdout",
     "output_type": "stream",
     "text": [
      "1\n",
      "2\n",
      "4\n",
      "5\n"
     ]
    }
   ],
   "source": [
    "# continue\n",
    "for x in seq:\n",
    "    if x == 3:\n",
    "        continue\n",
    "    print(x)"
   ]
  },
  {
   "cell_type": "markdown",
   "id": "520d9fb1",
   "metadata": {},
   "source": [
    "pass"
   ]
  },
  {
   "cell_type": "code",
   "execution_count": 26,
   "id": "c85d11bf",
   "metadata": {},
   "outputs": [],
   "source": [
    "for x in [0, 1, 2]:\n",
    "    pass"
   ]
  }
 ],
 "metadata": {
  "kernelspec": {
   "display_name": "Python 3 (ipykernel)",
   "language": "python",
   "name": "python3"
  },
  "language_info": {
   "codemirror_mode": {
    "name": "ipython",
    "version": 3
   },
   "file_extension": ".py",
   "mimetype": "text/x-python",
   "name": "python",
   "nbconvert_exporter": "python",
   "pygments_lexer": "ipython3",
   "version": "3.11.3"
  }
 },
 "nbformat": 4,
 "nbformat_minor": 5
}
