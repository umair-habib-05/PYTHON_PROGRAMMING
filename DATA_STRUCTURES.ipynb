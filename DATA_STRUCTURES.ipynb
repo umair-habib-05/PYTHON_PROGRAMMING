{
 "cells": [
  {
   "cell_type": "markdown",
   "id": "f7a2da1c",
   "metadata": {},
   "source": [
    "# DATA_STRUCTURES"
   ]
  },
  {
   "cell_type": "code",
   "execution_count": 84,
   "id": "6e86823a",
   "metadata": {},
   "outputs": [],
   "source": [
    "# Data structures are a way of organizing and storing data so that they can be accessed and worked with efficiently.\n",
    "# They define the relationship between the data, and the operations that can be performed on the data.\n",
    "# Python offers multiple built-in data structures, so that the programmer not need to implement these scratch.\n",
    "# Each of the data structures is unique in its own way. Data structures are “containers” that organize and group data \n",
    "# according to type. The data structures differ based on mutability and order.\n",
    "# These include:\n",
    "#               List\n",
    "#               Tuple\n",
    "#               Dictionary\n",
    "#               Set"
   ]
  },
  {
   "cell_type": "markdown",
   "id": "caef299f",
   "metadata": {},
   "source": [
    "# Lists"
   ]
  },
  {
   "cell_type": "code",
   "execution_count": 85,
   "id": "719ea0c6",
   "metadata": {},
   "outputs": [
    {
     "name": "stdout",
     "output_type": "stream",
     "text": [
      "list:  ['banana', 'apple', 'mango']\n"
     ]
    }
   ],
   "source": [
    "#Lists are used to store multiple items in a single variable. Lists are created using square brackets.\n",
    "this_list = [\"banana\",\"apple\",\"mango\"]\n",
    "this_list\n",
    "print(\"list: \",this_list)"
   ]
  },
  {
   "cell_type": "code",
   "execution_count": 86,
   "id": "e18fcfa9",
   "metadata": {},
   "outputs": [
    {
     "data": {
      "text/plain": [
       "[1, 2, 3]"
      ]
     },
     "execution_count": 86,
     "metadata": {},
     "output_type": "execute_result"
    }
   ],
   "source": [
    "#list creation\n",
    "my_list = [1,2,3]\n",
    "my_list"
   ]
  },
  {
   "cell_type": "code",
   "execution_count": 87,
   "id": "ae5d0c59",
   "metadata": {},
   "outputs": [
    {
     "data": {
      "text/plain": [
       "[1, 2, 3, 'd']"
      ]
     },
     "execution_count": 87,
     "metadata": {},
     "output_type": "execute_result"
    }
   ],
   "source": [
    "#list append: it is a \"pre-defined method used to add a single item\" to certain collection types.\n",
    "my_list.append('d')\n",
    "my_list"
   ]
  },
  {
   "cell_type": "code",
   "execution_count": 88,
   "id": "e26a4d6e",
   "metadata": {},
   "outputs": [
    {
     "data": {
      "text/plain": [
       "'d'"
      ]
     },
     "execution_count": 88,
     "metadata": {},
     "output_type": "execute_result"
    }
   ],
   "source": [
    "#list indexing: indexing refers to the process of accessing a specific element in a sequence, such as a string or list,\n",
    "#               using its position or index number. Indexing in Python starts at 0, which means that the first element \n",
    "#               in a sequence has an index of 0, the second element has an index of 1, and so on.\n",
    "my_list[3]"
   ]
  },
  {
   "cell_type": "code",
   "execution_count": 89,
   "id": "9c0ba986",
   "metadata": {},
   "outputs": [
    {
     "data": {
      "text/plain": [
       "'abcdefghijkl'"
      ]
     },
     "execution_count": 89,
     "metadata": {},
     "output_type": "execute_result"
    }
   ],
   "source": [
    "#list slicing\n",
    "name = \"abcdefghijkl\"\n",
    "name"
   ]
  },
  {
   "cell_type": "code",
   "execution_count": 90,
   "id": "b22b9c79",
   "metadata": {},
   "outputs": [
    {
     "data": {
      "text/plain": [
       "'fghij'"
      ]
     },
     "execution_count": 90,
     "metadata": {},
     "output_type": "execute_result"
    }
   ],
   "source": [
    "a = name[5:10]\n",
    "a"
   ]
  },
  {
   "cell_type": "code",
   "execution_count": 91,
   "id": "a978601f",
   "metadata": {},
   "outputs": [
    {
     "data": {
      "text/plain": [
       "'abcdefghij'"
      ]
     },
     "execution_count": 91,
     "metadata": {},
     "output_type": "execute_result"
    }
   ],
   "source": [
    "b = name[:10]\n",
    "b"
   ]
  },
  {
   "cell_type": "code",
   "execution_count": 92,
   "id": "3c915b2c",
   "metadata": {},
   "outputs": [
    {
     "data": {
      "text/plain": [
       "'fghijkl'"
      ]
     },
     "execution_count": 92,
     "metadata": {},
     "output_type": "execute_result"
    }
   ],
   "source": [
    "c = name[5:]\n",
    "c"
   ]
  },
  {
   "cell_type": "code",
   "execution_count": 93,
   "id": "48af30ce",
   "metadata": {},
   "outputs": [
    {
     "data": {
      "text/plain": [
       "'abcdefghijkl'"
      ]
     },
     "execution_count": 93,
     "metadata": {},
     "output_type": "execute_result"
    }
   ],
   "source": [
    "d = name[:]\n",
    "d"
   ]
  },
  {
   "cell_type": "code",
   "execution_count": 94,
   "id": "90b529ce",
   "metadata": {},
   "outputs": [
    {
     "data": {
      "text/plain": [
       "'efghi'"
      ]
     },
     "execution_count": 94,
     "metadata": {},
     "output_type": "execute_result"
    }
   ],
   "source": [
    "e = name[-8:-3]\n",
    "e"
   ]
  },
  {
   "cell_type": "code",
   "execution_count": 95,
   "id": "07b539ce",
   "metadata": {},
   "outputs": [
    {
     "data": {
      "text/plain": [
       "'fhjl'"
      ]
     },
     "execution_count": 95,
     "metadata": {},
     "output_type": "execute_result"
    }
   ],
   "source": [
    "f = name[5::2]\n",
    "f"
   ]
  },
  {
   "cell_type": "code",
   "execution_count": 96,
   "id": "57cd9978",
   "metadata": {},
   "outputs": [
    {
     "data": {
      "text/plain": [
       "'lkjihgfedcba'"
      ]
     },
     "execution_count": 96,
     "metadata": {},
     "output_type": "execute_result"
    }
   ],
   "source": [
    "g = name[::-1]\n",
    "g"
   ]
  },
  {
   "cell_type": "code",
   "execution_count": 97,
   "id": "cb4e45cc",
   "metadata": {},
   "outputs": [
    {
     "data": {
      "text/plain": [
       "'ABCDEFGHIJKL'"
      ]
     },
     "execution_count": 97,
     "metadata": {},
     "output_type": "execute_result"
    }
   ],
   "source": [
    "x = name[0:].upper()\n",
    "x"
   ]
  },
  {
   "cell_type": "code",
   "execution_count": 98,
   "id": "ec709478",
   "metadata": {},
   "outputs": [
    {
     "data": {
      "text/plain": [
       "['NEW', 213, 321]"
      ]
     },
     "execution_count": 98,
     "metadata": {},
     "output_type": "execute_result"
    }
   ],
   "source": [
    "# change/insert a new item in a list on a particular index position\n",
    "my_list = [1,213,321]\n",
    "my_list[0] = 'NEW'\n",
    "my_list"
   ]
  },
  {
   "cell_type": "code",
   "execution_count": 99,
   "id": "9f37b3c6",
   "metadata": {},
   "outputs": [
    {
     "data": {
      "text/plain": [
       "[1, [1, 2, 3, 4], 2, 3, 4]"
      ]
     },
     "execution_count": 99,
     "metadata": {},
     "output_type": "execute_result"
    }
   ],
   "source": [
    "#                        another_method\n",
    "my_list = [1, 2, 3, 4]\n",
    "my_list.insert(1,[1, 2, 3, 4])\n",
    "my_list"
   ]
  },
  {
   "cell_type": "code",
   "execution_count": 100,
   "id": "15b475b3",
   "metadata": {},
   "outputs": [
    {
     "data": {
      "text/plain": [
       "['uff', 'ali', 'umair', 'kbc']"
      ]
     },
     "execution_count": 100,
     "metadata": {},
     "output_type": "execute_result"
    }
   ],
   "source": [
    "new_list = [\"ali\",\"umair\",\"kbc\"]\n",
    "new_list.insert(0,\"uff\")\n",
    "new_list\n",
    "k = new_list\n",
    "k"
   ]
  },
  {
   "cell_type": "code",
   "execution_count": 101,
   "id": "0ce03c99",
   "metadata": {},
   "outputs": [
    {
     "data": {
      "text/plain": [
       "['uff', 'ali', 'umair', 'kbc', 'hello']"
      ]
     },
     "execution_count": 101,
     "metadata": {},
     "output_type": "execute_result"
    }
   ],
   "source": [
    "k.insert(4,\"hello\")\n",
    "k"
   ]
  },
  {
   "cell_type": "code",
   "execution_count": 102,
   "id": "8ba2b5d5",
   "metadata": {},
   "outputs": [],
   "source": [
    "#nested list\n",
    "nest = [1,2,3,[4,5,['target']]]"
   ]
  },
  {
   "cell_type": "code",
   "execution_count": 103,
   "id": "58f7971c",
   "metadata": {},
   "outputs": [
    {
     "data": {
      "text/plain": [
       "'g'"
      ]
     },
     "execution_count": 103,
     "metadata": {},
     "output_type": "execute_result"
    }
   ],
   "source": [
    "nest[3][2][0][3]"
   ]
  },
  {
   "cell_type": "code",
   "execution_count": 104,
   "id": "f209eabc",
   "metadata": {},
   "outputs": [
    {
     "data": {
      "text/plain": [
       "['target']"
      ]
     },
     "execution_count": 104,
     "metadata": {},
     "output_type": "execute_result"
    }
   ],
   "source": [
    "nest[3][2]"
   ]
  },
  {
   "cell_type": "code",
   "execution_count": 105,
   "id": "648a7ac8",
   "metadata": {},
   "outputs": [
    {
     "data": {
      "text/plain": [
       "[[[5], [3], [15]], [3, 4, 5], [6, 7, 8]]"
      ]
     },
     "execution_count": 105,
     "metadata": {},
     "output_type": "execute_result"
    }
   ],
   "source": [
    "#list of list\n",
    "uk = [[[5],[3],[15]],[3,4,5],[6,7,8]]\n",
    "uk"
   ]
  },
  {
   "cell_type": "code",
   "execution_count": 106,
   "id": "310a4bc4",
   "metadata": {},
   "outputs": [
    {
     "data": {
      "text/plain": [
       "3"
      ]
     },
     "execution_count": 106,
     "metadata": {},
     "output_type": "execute_result"
    }
   ],
   "source": [
    "#size of a list\n",
    "len(uk)"
   ]
  },
  {
   "cell_type": "code",
   "execution_count": 107,
   "id": "a2619bd4",
   "metadata": {},
   "outputs": [
    {
     "data": {
      "text/plain": [
       "[[[5], [3], [15]], [3, 4, 5]]"
      ]
     },
     "execution_count": 107,
     "metadata": {},
     "output_type": "execute_result"
    }
   ],
   "source": [
    "#pop an element: remove the last element from the list by-default\n",
    "a=uk.pop()\n",
    "uk"
   ]
  },
  {
   "cell_type": "code",
   "execution_count": 108,
   "id": "2638b23c",
   "metadata": {},
   "outputs": [
    {
     "data": {
      "text/plain": [
       "3"
      ]
     },
     "execution_count": 108,
     "metadata": {},
     "output_type": "execute_result"
    }
   ],
   "source": [
    "#count a particular item in a list\n",
    "x_list = ['abc',23,23,23]\n",
    "x_list.count(23)"
   ]
  },
  {
   "cell_type": "code",
   "execution_count": 109,
   "id": "60b3fa87",
   "metadata": {},
   "outputs": [
    {
     "data": {
      "text/plain": [
       "[1, 2, 3, 4, 5, 5, 6, 7, 8, 9]"
      ]
     },
     "execution_count": 109,
     "metadata": {},
     "output_type": "execute_result"
    }
   ],
   "source": [
    "#merging two lists\n",
    "list_1 = [1,2,3,4,5]\n",
    "list_2 = [5,6,7,8,9]\n",
    "list_1 + list_2 "
   ]
  },
  {
   "cell_type": "code",
   "execution_count": 110,
   "id": "401d4b3a",
   "metadata": {},
   "outputs": [
    {
     "data": {
      "text/plain": [
       "5"
      ]
     },
     "execution_count": 110,
     "metadata": {},
     "output_type": "execute_result"
    }
   ],
   "source": [
    "list_1 = [[1],[2,34,99],3,4,5]\n",
    "len(list_1)"
   ]
  },
  {
   "cell_type": "markdown",
   "id": "ce02fd7a",
   "metadata": {},
   "source": [
    "# Tuples"
   ]
  },
  {
   "cell_type": "code",
   "execution_count": 111,
   "id": "0b47e126",
   "metadata": {},
   "outputs": [],
   "source": [
    "#Python tuples are a type of data structure that is very similar to lists. The main difference between the two is that \n",
    "#tuples are immutable, meaning they cannot be changed once they are created. This makes them ideal for storing data that\n",
    "#should not be modified, such as database records"
   ]
  },
  {
   "cell_type": "code",
   "execution_count": 112,
   "id": "8432d660",
   "metadata": {},
   "outputs": [],
   "source": [
    "#tuple appearance\n",
    "t = (1,2,3)"
   ]
  },
  {
   "cell_type": "code",
   "execution_count": 113,
   "id": "7c871249",
   "metadata": {},
   "outputs": [
    {
     "data": {
      "text/plain": [
       "1"
      ]
     },
     "execution_count": 113,
     "metadata": {},
     "output_type": "execute_result"
    }
   ],
   "source": [
    "t[0]"
   ]
  },
  {
   "cell_type": "code",
   "execution_count": 114,
   "id": "3d3d4e4e",
   "metadata": {},
   "outputs": [
    {
     "data": {
      "text/plain": [
       "(2, 3)"
      ]
     },
     "execution_count": 114,
     "metadata": {},
     "output_type": "execute_result"
    }
   ],
   "source": [
    "#tuple slicing\n",
    "t[1:]"
   ]
  },
  {
   "cell_type": "code",
   "execution_count": 115,
   "id": "b8a7bdce",
   "metadata": {},
   "outputs": [
    {
     "ename": "TypeError",
     "evalue": "'tuple' object does not support item assignment",
     "output_type": "error",
     "traceback": [
      "\u001b[1;31m---------------------------------------------------------------------------\u001b[0m",
      "\u001b[1;31mTypeError\u001b[0m                                 Traceback (most recent call last)",
      "Cell \u001b[1;32mIn[115], line 2\u001b[0m\n\u001b[0;32m      1\u001b[0m \u001b[38;5;66;03m#tuples immutable objects that can't be changed\u001b[39;00m\n\u001b[1;32m----> 2\u001b[0m t[\u001b[38;5;241m0\u001b[39m] \u001b[38;5;241m=\u001b[39m \u001b[38;5;124m'\u001b[39m\u001b[38;5;124mNEW\u001b[39m\u001b[38;5;124m'\u001b[39m\n",
      "\u001b[1;31mTypeError\u001b[0m: 'tuple' object does not support item assignment"
     ]
    }
   ],
   "source": [
    "#tuples immutable objects that can't be changed\n",
    "t[0] = 'NEW'"
   ]
  },
  {
   "cell_type": "code",
   "execution_count": 116,
   "id": "e64aa039",
   "metadata": {},
   "outputs": [
    {
     "name": "stdout",
     "output_type": "stream",
     "text": [
      "(1, 2, 3, 3, 5, 6)\n"
     ]
    }
   ],
   "source": [
    "#tuple merging\n",
    "t = (1,2,3)\n",
    "u = (3,5,6)\n",
    "v = t+u\n",
    "print(v)"
   ]
  },
  {
   "cell_type": "code",
   "execution_count": 117,
   "id": "8a21a2b6",
   "metadata": {},
   "outputs": [
    {
     "data": {
      "text/plain": [
       "4"
      ]
     },
     "execution_count": 117,
     "metadata": {},
     "output_type": "execute_result"
    }
   ],
   "source": [
    "v.index(5)      # 5 value is on 4th index mean it's on 4th number.. as index starts from 0,1 and so on..."
   ]
  },
  {
   "cell_type": "code",
   "execution_count": 118,
   "id": "8e5aca8d",
   "metadata": {},
   "outputs": [
    {
     "data": {
      "text/plain": [
       "6"
      ]
     },
     "execution_count": 118,
     "metadata": {},
     "output_type": "execute_result"
    }
   ],
   "source": [
    "len(v)"
   ]
  },
  {
   "cell_type": "markdown",
   "id": "6d3e8396",
   "metadata": {},
   "source": [
    "# Dictionaries"
   ]
  },
  {
   "cell_type": "code",
   "execution_count": 119,
   "id": "e0956d63",
   "metadata": {},
   "outputs": [
    {
     "data": {
      "text/plain": [
       "{'key_1': 'item_1', 'key_2': 'item_2', 'key_3': 'item_3'}"
      ]
     },
     "execution_count": 119,
     "metadata": {},
     "output_type": "execute_result"
    }
   ],
   "source": [
    "d = {'key_1':'item_1', 'key_2':'item_2', 'key_3':'item_3'}\n",
    "d"
   ]
  },
  {
   "cell_type": "code",
   "execution_count": 120,
   "id": "8cd96d49",
   "metadata": {},
   "outputs": [
    {
     "data": {
      "text/plain": [
       "'item_1'"
      ]
     },
     "execution_count": 120,
     "metadata": {},
     "output_type": "execute_result"
    }
   ],
   "source": [
    "#item accessing\n",
    "d['key_1']"
   ]
  },
  {
   "cell_type": "code",
   "execution_count": 121,
   "id": "c5814e07",
   "metadata": {},
   "outputs": [
    {
     "data": {
      "text/plain": [
       "{'key_1': 'replaced_by_item_1', 'key_2': 'item_2', 'key_3': 'item_3'}"
      ]
     },
     "execution_count": 121,
     "metadata": {},
     "output_type": "execute_result"
    }
   ],
   "source": [
    "# item replacing\n",
    "d['key_1'] = 'replaced_by_item_1'\n",
    "d"
   ]
  },
  {
   "cell_type": "code",
   "execution_count": 122,
   "id": "757839bc",
   "metadata": {},
   "outputs": [
    {
     "name": "stdout",
     "output_type": "stream",
     "text": [
      "{'innerkey': [1, 2, 3]}\n",
      "[1, 2, 3]\n",
      "{'umair': 'abc'}\n",
      "abc\n"
     ]
    }
   ],
   "source": [
    "# dictionary nested with other dictionary\n",
    "d = {'k1':{'innerkey':[1,2,3]}}\n",
    "print(d['k1'])\n",
    "print(d['k1']['innerkey'])\n",
    "                            # items are always catched by keys...\n",
    "                            # for nested indexing 1st you write the outer_key then inner_key to get the inner_most value. \n",
    "a = {'name':{'umair':'abc'}}\n",
    "print(a['name'])\n",
    "print(a['name']['umair'])"
   ]
  },
  {
   "cell_type": "code",
   "execution_count": 123,
   "id": "3ade9fe9",
   "metadata": {},
   "outputs": [
    {
     "data": {
      "text/plain": [
       "2"
      ]
     },
     "execution_count": 123,
     "metadata": {},
     "output_type": "execute_result"
    }
   ],
   "source": [
    "d['k1']['innerkey'][1]"
   ]
  },
  {
   "cell_type": "code",
   "execution_count": 124,
   "id": "3890a324",
   "metadata": {},
   "outputs": [],
   "source": [
    "pets = {'dog':5 , 'cat':4}\n",
    "# another_example\n",
    "cars = {'abc':10, 'xyz':15}"
   ]
  },
  {
   "cell_type": "code",
   "execution_count": 125,
   "id": "66cfd4ab",
   "metadata": {},
   "outputs": [
    {
     "name": "stdout",
     "output_type": "stream",
     "text": [
      "dict_keys(['dog', 'cat'])\n",
      "dict_keys(['abc', 'xyz'])\n"
     ]
    }
   ],
   "source": [
    "print(pets.keys())\n",
    "print(cars.keys())"
   ]
  },
  {
   "cell_type": "code",
   "execution_count": 126,
   "id": "3714a2a9",
   "metadata": {},
   "outputs": [
    {
     "name": "stdout",
     "output_type": "stream",
     "text": [
      "dict_items([('dog', 5), ('cat', 4)])\n"
     ]
    },
    {
     "data": {
      "text/plain": [
       "dict_items([('abc', 10), ('xyz', 15)])"
      ]
     },
     "execution_count": 126,
     "metadata": {},
     "output_type": "execute_result"
    }
   ],
   "source": [
    "print(pets.items())\n",
    "cars.items()"
   ]
  },
  {
   "cell_type": "code",
   "execution_count": 127,
   "id": "05aec142",
   "metadata": {},
   "outputs": [
    {
     "name": "stdout",
     "output_type": "stream",
     "text": [
      "dict_values([5, 4])\n"
     ]
    },
    {
     "data": {
      "text/plain": [
       "dict_values([10, 15])"
      ]
     },
     "execution_count": 127,
     "metadata": {},
     "output_type": "execute_result"
    }
   ],
   "source": [
    "print(pets.values())\n",
    "cars.values()"
   ]
  },
  {
   "cell_type": "code",
   "execution_count": 128,
   "id": "9f12adeb",
   "metadata": {},
   "outputs": [
    {
     "name": "stdout",
     "output_type": "stream",
     "text": [
      "{}\n",
      "{}\n"
     ]
    }
   ],
   "source": [
    "#deleting all key-values pairs in a dictionary\n",
    "pets.clear()\n",
    "print(pets)\n",
    "cars.clear()\n",
    "print(cars)"
   ]
  },
  {
   "cell_type": "code",
   "execution_count": 129,
   "id": "1617f6f5",
   "metadata": {},
   "outputs": [
    {
     "name": "stdout",
     "output_type": "stream",
     "text": [
      "False\n"
     ]
    },
    {
     "data": {
      "text/plain": [
       "True"
      ]
     },
     "execution_count": 129,
     "metadata": {},
     "output_type": "execute_result"
    }
   ],
   "source": [
    "#check if a certain key or value is in the dictionary\n",
    "pets = {'dog':5 , 'cat':4}\n",
    "cars = {'abc':10, 'xyz':15}\n",
    "\n",
    "print(\"cats\" in pets.keys())\n",
    "\"abc\"  in cars.keys()"
   ]
  },
  {
   "cell_type": "code",
   "execution_count": 130,
   "id": "3e2bc749",
   "metadata": {},
   "outputs": [
    {
     "name": "stdout",
     "output_type": "stream",
     "text": [
      "{'key1': 321}\n"
     ]
    }
   ],
   "source": [
    "dic_={'key1':32 ,'key1':3211 ,'key1':31232 ,'key1':321}\n",
    "print(dic_)     # if keys has the same name then it will print the last key_or_its_value"
   ]
  },
  {
   "cell_type": "markdown",
   "id": "180d80ca",
   "metadata": {},
   "source": [
    "# Sets"
   ]
  },
  {
   "cell_type": "code",
   "execution_count": 131,
   "id": "8e7fc819",
   "metadata": {},
   "outputs": [],
   "source": [
    "st = {1,2,3,2.2}"
   ]
  },
  {
   "cell_type": "code",
   "execution_count": 132,
   "id": "e569a9c7",
   "metadata": {},
   "outputs": [
    {
     "data": {
      "text/plain": [
       "{1, 1.4, 2, 2.2, 3}"
      ]
     },
     "execution_count": 132,
     "metadata": {},
     "output_type": "execute_result"
    }
   ],
   "source": [
    "#sets the collection of unique items\n",
    "{1.4,2,2.2,3,1,2,1,2,3,3,3,3,2,2,2,1,1,2}"
   ]
  },
  {
   "cell_type": "code",
   "execution_count": 133,
   "id": "e59490a6",
   "metadata": {},
   "outputs": [
    {
     "data": {
      "text/plain": [
       "{1, 2, 2.2, 3, 9}"
      ]
     },
     "execution_count": 133,
     "metadata": {},
     "output_type": "execute_result"
    }
   ],
   "source": [
    "st.add(9)\n",
    "st"
   ]
  },
  {
   "cell_type": "code",
   "execution_count": 134,
   "id": "4ec8c9bd",
   "metadata": {},
   "outputs": [
    {
     "name": "stdout",
     "output_type": "stream",
     "text": [
      "intersection is:  {3}\n",
      "union is:  {1, 2, 3, 4, 5}\n",
      "difference is:  {1, 2}\n"
     ]
    }
   ],
   "source": [
    "#set allow intersection, difference and union among other operations\n",
    "s1 = {1,2,3}\n",
    "s2 = {3,4,5}\n",
    "\n",
    "intersection = s1.intersection(s2)\n",
    "print(\"intersection is: \",intersection)\n",
    "\n",
    "union = s1.union(s2)\n",
    "print(\"union is: \", union)\n",
    "\n",
    "difference = s1.difference(s2)\n",
    "print(\"difference is: \", difference)"
   ]
  },
  {
   "cell_type": "code",
   "execution_count": 135,
   "id": "bdb9b4f7",
   "metadata": {
    "scrolled": true
   },
   "outputs": [
    {
     "name": "stdout",
     "output_type": "stream",
     "text": [
      "intersection is:  {3, 4}\n",
      "union is:  {1, 2, 3, 4, 5, 6, 'g'}\n"
     ]
    }
   ],
   "source": [
    "# Ashort hand for\n",
    "a = {1,3,4,6,'g'}\n",
    "b = {2,3,4,5}\n",
    "\n",
    "print(\"intersection is: \", a & b)\n",
    "print(\"union is: \", a|b)"
   ]
  }
 ],
 "metadata": {
  "kernelspec": {
   "display_name": "Python 3 (ipykernel)",
   "language": "python",
   "name": "python3"
  },
  "language_info": {
   "codemirror_mode": {
    "name": "ipython",
    "version": 3
   },
   "file_extension": ".py",
   "mimetype": "text/x-python",
   "name": "python",
   "nbconvert_exporter": "python",
   "pygments_lexer": "ipython3",
   "version": "3.11.3"
  }
 },
 "nbformat": 4,
 "nbformat_minor": 5
}
