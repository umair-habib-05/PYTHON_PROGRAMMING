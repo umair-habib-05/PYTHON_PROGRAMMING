{
 "cells": [
  {
   "cell_type": "markdown",
   "id": "b0458796",
   "metadata": {},
   "source": [
    "# Numbers and Operators"
   ]
  },
  {
   "cell_type": "code",
   "execution_count": 14,
   "id": "2fc54e92",
   "metadata": {},
   "outputs": [
    {
     "data": {
      "text/plain": [
       "2"
      ]
     },
     "execution_count": 14,
     "metadata": {},
     "output_type": "execute_result"
    }
   ],
   "source": [
    " 1 + 1 "
   ]
  },
  {
   "cell_type": "code",
   "execution_count": 2,
   "id": "8b76c4ac",
   "metadata": {},
   "outputs": [
    {
     "data": {
      "text/plain": [
       "3"
      ]
     },
     "execution_count": 2,
     "metadata": {},
     "output_type": "execute_result"
    }
   ],
   "source": [
    "1 * 3"
   ]
  },
  {
   "cell_type": "code",
   "execution_count": 3,
   "id": "5d4d04e6",
   "metadata": {},
   "outputs": [
    {
     "data": {
      "text/plain": [
       "0.5"
      ]
     },
     "execution_count": 3,
     "metadata": {},
     "output_type": "execute_result"
    }
   ],
   "source": [
    "1 / 2"
   ]
  },
  {
   "cell_type": "code",
   "execution_count": 4,
   "id": "6172f333",
   "metadata": {},
   "outputs": [
    {
     "data": {
      "text/plain": [
       "16"
      ]
     },
     "execution_count": 4,
     "metadata": {},
     "output_type": "execute_result"
    }
   ],
   "source": [
    "# power/exponent\n",
    "2 ** 4"
   ]
  },
  {
   "cell_type": "code",
   "execution_count": 5,
   "id": "d112bebd",
   "metadata": {},
   "outputs": [
    {
     "data": {
      "text/plain": [
       "0"
      ]
     },
     "execution_count": 5,
     "metadata": {},
     "output_type": "execute_result"
    }
   ],
   "source": [
    "# modulus\n",
    "4%2"
   ]
  },
  {
   "cell_type": "code",
   "execution_count": 6,
   "id": "ae70889d",
   "metadata": {},
   "outputs": [
    {
     "data": {
      "text/plain": [
       "1"
      ]
     },
     "execution_count": 6,
     "metadata": {},
     "output_type": "execute_result"
    }
   ],
   "source": [
    "5 % 2"
   ]
  },
  {
   "cell_type": "code",
   "execution_count": 9,
   "id": "ef95277c",
   "metadata": {},
   "outputs": [
    {
     "data": {
      "text/plain": [
       "50"
      ]
     },
     "execution_count": 9,
     "metadata": {},
     "output_type": "execute_result"
    }
   ],
   "source": [
    "# precedence\n",
    "( 2 +3 ) * ( 5+ 5 ) "
   ]
  },
  {
   "cell_type": "code",
   "execution_count": 10,
   "id": "d72c07f0",
   "metadata": {},
   "outputs": [
    {
     "data": {
      "text/plain": [
       "22"
      ]
     },
     "execution_count": 10,
     "metadata": {},
     "output_type": "execute_result"
    }
   ],
   "source": [
    "2 + 3 * 5 + 5"
   ]
  },
  {
   "cell_type": "markdown",
   "id": "8fb3485f",
   "metadata": {},
   "source": [
    "# Booleans"
   ]
  },
  {
   "cell_type": "code",
   "execution_count": 11,
   "id": "1ee57bd2",
   "metadata": {},
   "outputs": [
    {
     "data": {
      "text/plain": [
       "True"
      ]
     },
     "execution_count": 11,
     "metadata": {},
     "output_type": "execute_result"
    }
   ],
   "source": [
    "True"
   ]
  },
  {
   "cell_type": "code",
   "execution_count": 12,
   "id": "0b47a7a4",
   "metadata": {},
   "outputs": [
    {
     "data": {
      "text/plain": [
       "False"
      ]
     },
     "execution_count": 12,
     "metadata": {},
     "output_type": "execute_result"
    }
   ],
   "source": [
    "False"
   ]
  },
  {
   "cell_type": "markdown",
   "id": "9547320e",
   "metadata": {},
   "source": [
    "# Variable Assignment"
   ]
  },
  {
   "cell_type": "code",
   "execution_count": 15,
   "id": "7b6b1320",
   "metadata": {},
   "outputs": [],
   "source": [
    "# cannot start with a number or any other special character except underscore.\n",
    "name_of_var = 2"
   ]
  },
  {
   "cell_type": "code",
   "execution_count": 17,
   "id": "3b5f7278",
   "metadata": {},
   "outputs": [],
   "source": [
    "x = 2\n",
    "y = 3"
   ]
  },
  {
   "cell_type": "code",
   "execution_count": 18,
   "id": "32a7fafc",
   "metadata": {},
   "outputs": [],
   "source": [
    "z = x + y"
   ]
  },
  {
   "cell_type": "code",
   "execution_count": 19,
   "id": "17698489",
   "metadata": {},
   "outputs": [
    {
     "data": {
      "text/plain": [
       "5"
      ]
     },
     "execution_count": 19,
     "metadata": {},
     "output_type": "execute_result"
    }
   ],
   "source": [
    "z"
   ]
  },
  {
   "cell_type": "markdown",
   "id": "1139c78d",
   "metadata": {},
   "source": [
    "# Printing"
   ]
  },
  {
   "cell_type": "code",
   "execution_count": 22,
   "id": "c3f19151",
   "metadata": {},
   "outputs": [
    {
     "name": "stdout",
     "output_type": "stream",
     "text": [
      "5\n"
     ]
    }
   ],
   "source": [
    "x = 5\n",
    "print(x)"
   ]
  },
  {
   "cell_type": "markdown",
   "id": "e7c583de",
   "metadata": {},
   "source": [
    "# Strings"
   ]
  },
  {
   "cell_type": "code",
   "execution_count": 23,
   "id": "ff6ea32d",
   "metadata": {},
   "outputs": [
    {
     "name": "stdout",
     "output_type": "stream",
     "text": [
      "single_quotes\n"
     ]
    }
   ],
   "source": [
    "print('single_quotes')"
   ]
  },
  {
   "cell_type": "code",
   "execution_count": 25,
   "id": "fba9ffb6",
   "metadata": {},
   "outputs": [
    {
     "name": "stdout",
     "output_type": "stream",
     "text": [
      "double_quotes\n"
     ]
    }
   ],
   "source": [
    "print(\"double_quotes\")"
   ]
  },
  {
   "cell_type": "code",
   "execution_count": 30,
   "id": "5d5ff464",
   "metadata": {},
   "outputs": [
    {
     "name": "stdout",
     "output_type": "stream",
     "text": [
      "wrap lot's of single quotes in double quotes\n"
     ]
    },
    {
     "data": {
      "text/plain": [
       "\"wrap lot's of single quotes in double quotes\""
      ]
     },
     "execution_count": 30,
     "metadata": {},
     "output_type": "execute_result"
    }
   ],
   "source": [
    "print(\"wrap lot's of single quotes in double quotes\")\n",
    "#see the difference\n",
    "\"wrap lot's of single quotes in double quotes\""
   ]
  },
  {
   "cell_type": "code",
   "execution_count": 32,
   "id": "ed7f1612",
   "metadata": {},
   "outputs": [
    {
     "ename": "SyntaxError",
     "evalue": "unterminated string literal (detected at line 1) (2015893982.py, line 1)",
     "output_type": "error",
     "traceback": [
      "\u001b[1;36m  Cell \u001b[1;32mIn[32], line 1\u001b[1;36m\u001b[0m\n\u001b[1;33m    'wrap lot's of single quotes in double quotes'\u001b[0m\n\u001b[1;37m                                                 ^\u001b[0m\n\u001b[1;31mSyntaxError\u001b[0m\u001b[1;31m:\u001b[0m unterminated string literal (detected at line 1)\n"
     ]
    }
   ],
   "source": [
    "'wrap lot's of single quotes in double quotes'\n",
    "\n",
    "#as you see you will face error"
   ]
  },
  {
   "cell_type": "code",
   "execution_count": 35,
   "id": "20eae3b2",
   "metadata": {},
   "outputs": [
    {
     "data": {
      "text/plain": [
       "'my name is umair and my number is 90078601'"
      ]
     },
     "execution_count": 35,
     "metadata": {},
     "output_type": "execute_result"
    }
   ],
   "source": [
    "#                                    .format()\n",
    "name = \"umair\"\n",
    "number = 90078601\n",
    "x = \"my name is {} and my number is {}\".format(name,number)\n",
    "x"
   ]
  },
  {
   "cell_type": "code",
   "execution_count": 36,
   "id": "f2c1a2f4",
   "metadata": {},
   "outputs": [
    {
     "data": {
      "text/plain": [
       "str"
      ]
     },
     "execution_count": 36,
     "metadata": {},
     "output_type": "execute_result"
    }
   ],
   "source": [
    "#                    find the data type of any variable = type(varialbe_name)\n",
    "type(x)"
   ]
  },
  {
   "cell_type": "code",
   "execution_count": 37,
   "id": "bc921f95",
   "metadata": {},
   "outputs": [],
   "source": [
    "s = 'hello g'"
   ]
  },
  {
   "cell_type": "code",
   "execution_count": 38,
   "id": "3c2d91d6",
   "metadata": {},
   "outputs": [
    {
     "data": {
      "text/plain": [
       "'Hello g'"
      ]
     },
     "execution_count": 38,
     "metadata": {},
     "output_type": "execute_result"
    }
   ],
   "source": [
    "#                    capitalize the first word in the string = .capitalize()\n",
    "s.capitalize()"
   ]
  },
  {
   "cell_type": "code",
   "execution_count": 40,
   "id": "c40bb51c",
   "metadata": {},
   "outputs": [
    {
     "data": {
      "text/plain": [
       "'HELLO G'"
      ]
     },
     "execution_count": 40,
     "metadata": {},
     "output_type": "execute_result"
    }
   ],
   "source": [
    "#                       every word in upper_case = .upper()\n",
    "s.upper()"
   ]
  },
  {
   "cell_type": "code",
   "execution_count": 41,
   "id": "86135763",
   "metadata": {},
   "outputs": [
    {
     "data": {
      "text/plain": [
       "'hafiz muhammad umair habib'"
      ]
     },
     "execution_count": 41,
     "metadata": {},
     "output_type": "execute_result"
    }
   ],
   "source": [
    "#                       every word in lower_case = .lower()\n",
    "x = 'Hafiz Muhammad Umair Habib'\n",
    "x.lower()"
   ]
  },
  {
   "cell_type": "code",
   "execution_count": 42,
   "id": "4f5f8e81",
   "metadata": {},
   "outputs": [
    {
     "data": {
      "text/plain": [
       "5"
      ]
     },
     "execution_count": 42,
     "metadata": {},
     "output_type": "execute_result"
    }
   ],
   "source": [
    "#                       count the occurrance of a letter = .count()\n",
    "x.count('a')"
   ]
  },
  {
   "cell_type": "code",
   "execution_count": 43,
   "id": "8a101627",
   "metadata": {},
   "outputs": [
    {
     "data": {
      "text/plain": [
       "False"
      ]
     },
     "execution_count": 43,
     "metadata": {},
     "output_type": "execute_result"
    }
   ],
   "source": [
    "#                       check the string is alpha numeric or not = .isalnum()\n",
    "x.isalnum()"
   ]
  },
  {
   "cell_type": "code",
   "execution_count": 44,
   "id": "ca468606",
   "metadata": {},
   "outputs": [
    {
     "data": {
      "text/plain": [
       "False"
      ]
     },
     "execution_count": 44,
     "metadata": {},
     "output_type": "execute_result"
    }
   ],
   "source": [
    "#                       checking the string is numeric or not = .count()\n",
    "x.isnumeric()"
   ]
  },
  {
   "cell_type": "code",
   "execution_count": 46,
   "id": "a92db9bd",
   "metadata": {},
   "outputs": [
    {
     "name": "stdout",
     "output_type": "stream",
     "text": [
      "hello\n",
      "ji\n",
      "kesi\n",
      "ho ?\n"
     ]
    }
   ],
   "source": [
    "#                                string multiline\n",
    "s = \"\"\"hello\n",
    "ji\n",
    "kesi\n",
    "ho ?\"\"\"\n",
    "print(s)"
   ]
  },
  {
   "cell_type": "code",
   "execution_count": 47,
   "id": "b3d18325",
   "metadata": {},
   "outputs": [
    {
     "data": {
      "text/plain": [
       "'assalam_0_alaikum !kese hain ap ?'"
      ]
     },
     "execution_count": 47,
     "metadata": {},
     "output_type": "execute_result"
    }
   ],
   "source": [
    "#                       breaking a string in code only\n",
    "multiline = \"assalam_0_alaikum !\\\n",
    "kese hain ap ?\"\n",
    "multiline"
   ]
  },
  {
   "cell_type": "markdown",
   "id": "56ed730f",
   "metadata": {},
   "source": [
    "# Slicing"
   ]
  },
  {
   "cell_type": "code",
   "execution_count": 48,
   "id": "31d5d2a4",
   "metadata": {},
   "outputs": [],
   "source": [
    "#     987654321 (IN NEGATIVE CASE)\n",
    "#    ABCD EFGHI\n",
    "#    0123456789 (IN POSITIVE CASE)"
   ]
  },
  {
   "cell_type": "code",
   "execution_count": 50,
   "id": "5f649b74",
   "metadata": {},
   "outputs": [
    {
     "name": "stdout",
     "output_type": "stream",
     "text": [
      "umair\n",
      "habib\n"
     ]
    }
   ],
   "source": [
    "name = \"umair habib\"#(counting for positive is like 0,1,2,3,4,5,6,7,8,9,10)\n",
    "                    #(in negative case it's like -1,-2,-3-4-5-6-7-8-9-10,11)\n",
    "print(name[0:5])\n",
    "print(name[6:])"
   ]
  },
  {
   "cell_type": "code",
   "execution_count": 54,
   "id": "4506611a",
   "metadata": {},
   "outputs": [
    {
     "name": "stdout",
     "output_type": "stream",
     "text": [
      "m\n",
      "ma\n",
      "mno\n"
     ]
    }
   ],
   "source": [
    "fruit = \"mango\"\n",
    "print(fruit[0:1])\n",
    "print(fruit[0:-3]) # --- fruit[0:-3] = fruit[0:len(fruit)-3] = fruit[0:5-3] = fruit[0:2] in this way we get ma\n",
    "print(fruit[0::2])"
   ]
  },
  {
   "cell_type": "code",
   "execution_count": 57,
   "id": "2c3b7b9c",
   "metadata": {},
   "outputs": [
    {
     "name": "stdout",
     "output_type": "stream",
     "text": [
      "h\n",
      "hello\n"
     ]
    }
   ],
   "source": [
    "s = 'hello'\n",
    "print(s[0])\n",
    "print(s[0:])"
   ]
  },
  {
   "cell_type": "code",
   "execution_count": 60,
   "id": "3d7f3467",
   "metadata": {},
   "outputs": [
    {
     "data": {
      "text/plain": [
       "'el'"
      ]
     },
     "execution_count": 60,
     "metadata": {},
     "output_type": "execute_result"
    }
   ],
   "source": [
    "s[1:3]"
   ]
  },
  {
   "cell_type": "code",
   "execution_count": 61,
   "id": "15d98d6e",
   "metadata": {},
   "outputs": [
    {
     "data": {
      "text/plain": [
       "'hello'"
      ]
     },
     "execution_count": 61,
     "metadata": {},
     "output_type": "execute_result"
    }
   ],
   "source": [
    "s[:]"
   ]
  },
  {
   "cell_type": "code",
   "execution_count": 62,
   "id": "a264ef75",
   "metadata": {},
   "outputs": [
    {
     "data": {
      "text/plain": [
       "'hell'"
      ]
     },
     "execution_count": 62,
     "metadata": {},
     "output_type": "execute_result"
    }
   ],
   "source": [
    "s[:-1]"
   ]
  },
  {
   "cell_type": "code",
   "execution_count": 63,
   "id": "0f5bb5b7",
   "metadata": {},
   "outputs": [
    {
     "data": {
      "text/plain": [
       "'llo'"
      ]
     },
     "execution_count": 63,
     "metadata": {},
     "output_type": "execute_result"
    }
   ],
   "source": [
    "s[-3:] # ---s[-3:] = s[len(s)-3:] = s[5-3:] = s[2:]"
   ]
  },
  {
   "cell_type": "code",
   "execution_count": 64,
   "id": "6cbc8889",
   "metadata": {},
   "outputs": [
    {
     "data": {
      "text/plain": [
       "['hello']"
      ]
     },
     "execution_count": 64,
     "metadata": {},
     "output_type": "execute_result"
    }
   ],
   "source": [
    "#                                 split\n",
    "s='hello'\n",
    "s.split()"
   ]
  },
  {
   "cell_type": "code",
   "execution_count": 68,
   "id": "eb901063",
   "metadata": {},
   "outputs": [
    {
     "name": "stdout",
     "output_type": "stream",
     "text": [
      "['Hafiz', 'Muhammad', 'Umair', 'Habib']\n",
      "['Hafiz_Muhammad_Umair_Habib']\n"
     ]
    }
   ],
   "source": [
    "#                                 split\n",
    "x = \"Hafiz Muhammad Umair Habib\"\n",
    "y = \"Hafiz_Muhammad_Umair_Habib\"\n",
    "print(x.split())\n",
    "print(y.split())"
   ]
  },
  {
   "cell_type": "code",
   "execution_count": 70,
   "id": "c9e474da",
   "metadata": {},
   "outputs": [
    {
     "data": {
      "text/plain": [
       "('Hafiz Muhammad ', 'Umair', ' Habib')"
      ]
     },
     "execution_count": 70,
     "metadata": {},
     "output_type": "execute_result"
    }
   ],
   "source": [
    "#                           partition on word or letter\n",
    "x.partition(\"Umair\")"
   ]
  },
  {
   "cell_type": "code",
   "execution_count": 71,
   "id": "c1559526",
   "metadata": {},
   "outputs": [
    {
     "data": {
      "text/plain": [
       "\"this course is on python programming and it's duration is 7 days\""
      ]
     },
     "execution_count": 71,
     "metadata": {},
     "output_type": "execute_result"
    }
   ],
   "source": [
    "#                                 f string\n",
    "course_name = \"python programming\"\n",
    "duration = 7\n",
    "s = f\"this course is on {course_name} and it's duration is {duration} days\"\n",
    "        # you can also use: s = \"this course is on {} and its duration is {}\".format(course_name,duration)\n",
    "s"
   ]
  },
  {
   "cell_type": "code",
   "execution_count": 76,
   "id": "3d29318f",
   "metadata": {},
   "outputs": [
    {
     "name": "stdout",
     "output_type": "stream",
     "text": [
      "True\n",
      "False\n"
     ]
    }
   ],
   "source": [
    "#                                            is in / not in\n",
    "# is in\n",
    "print(\"course\" in s)\n",
    "# not in\n",
    "print(\"k\" in s)"
   ]
  },
  {
   "cell_type": "markdown",
   "id": "9b68dc99",
   "metadata": {},
   "source": [
    "# Comparison Operators"
   ]
  },
  {
   "cell_type": "code",
   "execution_count": 77,
   "id": "6b0cf33e",
   "metadata": {},
   "outputs": [
    {
     "data": {
      "text/plain": [
       "False"
      ]
     },
     "execution_count": 77,
     "metadata": {},
     "output_type": "execute_result"
    }
   ],
   "source": [
    "1 > 2"
   ]
  },
  {
   "cell_type": "code",
   "execution_count": 78,
   "id": "d34d6d2d",
   "metadata": {},
   "outputs": [
    {
     "data": {
      "text/plain": [
       "True"
      ]
     },
     "execution_count": 78,
     "metadata": {},
     "output_type": "execute_result"
    }
   ],
   "source": [
    "1 < 2"
   ]
  },
  {
   "cell_type": "code",
   "execution_count": 79,
   "id": "f9d4512e",
   "metadata": {},
   "outputs": [
    {
     "data": {
      "text/plain": [
       "True"
      ]
     },
     "execution_count": 79,
     "metadata": {},
     "output_type": "execute_result"
    }
   ],
   "source": [
    "1 >= 1"
   ]
  },
  {
   "cell_type": "code",
   "execution_count": 80,
   "id": "30c91c07",
   "metadata": {},
   "outputs": [
    {
     "data": {
      "text/plain": [
       "True"
      ]
     },
     "execution_count": 80,
     "metadata": {},
     "output_type": "execute_result"
    }
   ],
   "source": [
    "1 <= 4"
   ]
  },
  {
   "cell_type": "code",
   "execution_count": 81,
   "id": "4e4b15c9",
   "metadata": {},
   "outputs": [
    {
     "data": {
      "text/plain": [
       "True"
      ]
     },
     "execution_count": 81,
     "metadata": {},
     "output_type": "execute_result"
    }
   ],
   "source": [
    "1 == 1"
   ]
  },
  {
   "cell_type": "code",
   "execution_count": 82,
   "id": "a2abfd50",
   "metadata": {},
   "outputs": [
    {
     "data": {
      "text/plain": [
       "False"
      ]
     },
     "execution_count": 82,
     "metadata": {},
     "output_type": "execute_result"
    }
   ],
   "source": [
    "'hi' == 'bye'"
   ]
  },
  {
   "cell_type": "code",
   "execution_count": 83,
   "id": "cffb9656",
   "metadata": {},
   "outputs": [
    {
     "data": {
      "text/plain": [
       "True"
      ]
     },
     "execution_count": 83,
     "metadata": {},
     "output_type": "execute_result"
    }
   ],
   "source": [
    "'hi' != 'bye'"
   ]
  },
  {
   "cell_type": "markdown",
   "id": "f815bf63",
   "metadata": {},
   "source": [
    "# Logical Operators"
   ]
  },
  {
   "cell_type": "code",
   "execution_count": 84,
   "id": "62648358",
   "metadata": {},
   "outputs": [
    {
     "data": {
      "text/plain": [
       "False"
      ]
     },
     "execution_count": 84,
     "metadata": {},
     "output_type": "execute_result"
    }
   ],
   "source": [
    "#                                and\n",
    "( 1 > 2 ) and ( 2 < 3 )"
   ]
  },
  {
   "cell_type": "code",
   "execution_count": 85,
   "id": "bcb6328b",
   "metadata": {},
   "outputs": [
    {
     "data": {
      "text/plain": [
       "True"
      ]
     },
     "execution_count": 85,
     "metadata": {},
     "output_type": "execute_result"
    }
   ],
   "source": [
    "#                                or\n",
    "( 1 > 2 ) or ( 2 < 3 )"
   ]
  },
  {
   "cell_type": "code",
   "execution_count": 86,
   "id": "7afc44fd",
   "metadata": {},
   "outputs": [
    {
     "data": {
      "text/plain": [
       "True"
      ]
     },
     "execution_count": 86,
     "metadata": {},
     "output_type": "execute_result"
    }
   ],
   "source": [
    "# or\n",
    "( 1 == 2 ) or ( 2 == 3 ) or ( 4 == 4 )"
   ]
  },
  {
   "cell_type": "markdown",
   "id": "4c67ae88",
   "metadata": {},
   "source": [
    "# User Input"
   ]
  },
  {
   "cell_type": "code",
   "execution_count": 87,
   "id": "1f78773d",
   "metadata": {},
   "outputs": [
    {
     "name": "stdout",
     "output_type": "stream",
     "text": [
      "enter ur nameMuhammad Umair Habib\n",
      "name:  Muhammad Umair Habib\n",
      "enter ur age20\n",
      "age:  20\n",
      "<class 'int'>\n"
     ]
    }
   ],
   "source": [
    "name = input(\"enter ur name\")\n",
    "print(\"name: \",name)\n",
    "\n",
    "age = input(\"enter ur age\")\n",
    "print(\"age: \",age)\n",
    "age = int(age)\n",
    "print(type(age))"
   ]
  },
  {
   "cell_type": "markdown",
   "id": "3f4c0695",
   "metadata": {},
   "source": [
    "# Type Casting"
   ]
  },
  {
   "cell_type": "code",
   "execution_count": 88,
   "id": "2756cd27",
   "metadata": {},
   "outputs": [
    {
     "ename": "TypeError",
     "evalue": "can only concatenate str (not \"int\") to str",
     "output_type": "error",
     "traceback": [
      "\u001b[1;31m---------------------------------------------------------------------------\u001b[0m",
      "\u001b[1;31mTypeError\u001b[0m                                 Traceback (most recent call last)",
      "Cell \u001b[1;32mIn[88], line 3\u001b[0m\n\u001b[0;32m      1\u001b[0m type_1 \u001b[38;5;241m=\u001b[39m \u001b[38;5;124m\"\u001b[39m\u001b[38;5;124m1\u001b[39m\u001b[38;5;124m\"\u001b[39m\n\u001b[0;32m      2\u001b[0m type_2 \u001b[38;5;241m=\u001b[39m \u001b[38;5;241m2\u001b[39m\n\u001b[1;32m----> 3\u001b[0m \u001b[38;5;28mprint\u001b[39m(type_1 \u001b[38;5;241m+\u001b[39m type_2)\n",
      "\u001b[1;31mTypeError\u001b[0m: can only concatenate str (not \"int\") to str"
     ]
    }
   ],
   "source": [
    "type_1 = \"1\"\n",
    "type_2 = 2\n",
    "print(type_1 + type_2)"
   ]
  },
  {
   "cell_type": "code",
   "execution_count": 89,
   "id": "c0ebd430",
   "metadata": {},
   "outputs": [
    {
     "name": "stdout",
     "output_type": "stream",
     "text": [
      "3\n"
     ]
    }
   ],
   "source": [
    "type_1 = \"1\"\n",
    "type_2 = 2\n",
    "print(int(type_1) + type_2)"
   ]
  },
  {
   "cell_type": "code",
   "execution_count": 90,
   "id": "b97db61a",
   "metadata": {},
   "outputs": [
    {
     "name": "stdout",
     "output_type": "stream",
     "text": [
      "12\n"
     ]
    }
   ],
   "source": [
    "type_1 = \"1\"\n",
    "type_2 = 2\n",
    "print(type_1 + str(type_2))"
   ]
  }
 ],
 "metadata": {
  "kernelspec": {
   "display_name": "Python 3 (ipykernel)",
   "language": "python",
   "name": "python3"
  },
  "language_info": {
   "codemirror_mode": {
    "name": "ipython",
    "version": 3
   },
   "file_extension": ".py",
   "mimetype": "text/x-python",
   "name": "python",
   "nbconvert_exporter": "python",
   "pygments_lexer": "ipython3",
   "version": "3.11.3"
  }
 },
 "nbformat": 4,
 "nbformat_minor": 5
}
